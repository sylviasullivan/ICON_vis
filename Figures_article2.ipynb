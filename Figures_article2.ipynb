{
 "cells": [
  {
   "cell_type": "code",
   "execution_count": 1,
   "metadata": {},
   "outputs": [],
   "source": [
    "import matplotlib.pyplot as plt\n",
    "import numpy as np\n",
    "import xarray as xr\n",
    "import os\n",
    "import cartopy.crs as ccrs\n",
    "import matplotlib.colors as colors\n",
    "from cartopy.mpl.gridliner import LONGITUDE_FORMATTER, LATITUDE_FORMATTER\n",
    "from matplotlib.collections import LineCollection\n",
    "from matplotlib import cm\n",
    "from datetime import datetime"
   ]
  },
  {
   "cell_type": "code",
   "execution_count": 2,
   "metadata": {},
   "outputs": [],
   "source": [
    "# Helper function to - you guessed it - make sexy axes for generic values\n",
    "def sexy_axes(ax,fs):\n",
    "    ax.spines['right'].set_color('none')\n",
    "    ax.spines['top'].set_color('none')\n",
    "    ax.xaxis.set_ticks_position('bottom')\n",
    "    ax.yaxis.set_ticks_position('left') \n",
    "    ax.tick_params('both',labelsize=fs,rotation=45)"
   ]
  },
  {
   "cell_type": "code",
   "execution_count": 3,
   "metadata": {},
   "outputs": [],
   "source": [
    "# Helper function to make sexy axes for pressure levels\n",
    "def sexy_axes2(ax, fs, ylab):\n",
    "    ax.set_ylim([50,800])\n",
    "    ax.set_yscale('log')\n",
    "    ax.set_yticks([800,500,300,100])\n",
    "    ax.set_yticklabels(['800','500','300','100'])\n",
    "    if ylab == True:\n",
    "        ax.set_ylabel('Pressure [hPa]',fontsize=fs)\n",
    "    ax.invert_yaxis()\n",
    "    \n",
    "    ax.spines['right'].set_color('none')\n",
    "    ax.spines['top'].set_color('none')\n",
    "    ax.xaxis.set_ticks_position('bottom')\n",
    "    ax.yaxis.set_ticks_position('left') \n",
    "    ax.tick_params('both',labelsize=fs,rotation=45)"
   ]
  },
  {
   "cell_type": "code",
   "execution_count": 4,
   "metadata": {},
   "outputs": [],
   "source": [
    "# More helper functions\n",
    "# Pulling this from the following stackoverflow\n",
    "# https://stackoverflow.com/questions/30030328/correct-placement-of-colorbar-relative-to-geo-axes-cartopy\n",
    "def resize_colorbar(event):\n",
    "    plt.draw()\n",
    "    posn = ax.get_position()\n",
    "    # left, bottom, width, height\n",
    "    cbar_ax.set_position([posn.x0 + posn.width + 0.01, posn.y0 - 0.018,\n",
    "                          0.025, posn.height + 0.03])\n",
    "    cbar_ax.tick_params(labelsize=fs)\n",
    "\n",
    "# Define a function to convert radians to degrees.\n",
    "def rad2deg(x):\n",
    "    return x*180/pi"
   ]
  },
  {
   "cell_type": "markdown",
   "metadata": {},
   "source": [
    "# Figure 1: Domain topography + flight track and trajectory sample"
   ]
  },
  {
   "cell_type": "code",
   "execution_count": 5,
   "metadata": {},
   "outputs": [
    {
     "name": "stderr",
     "output_type": "stream",
     "text": [
      "/sw/rhel6-x64/conda/anaconda3-bleeding_edge/lib/python3.6/site-packages/ipykernel_launcher.py:13: RuntimeWarning: invalid value encountered in greater\n",
      "  del sys.path[0]\n"
     ]
    }
   ],
   "source": [
    "# Domain topography map\n",
    "file = '/work/bb1018/b380459/TROPIC/extpar/extpar_icon-grid_tropic_55e170e5s40n_R2500m_bitmap.nc'\n",
    "dset = xr.open_dataset(str(file))\n",
    "x, y = dset['lon'].values, dset['lat'].values  # shape = (9648304,)\n",
    "\n",
    "# Flight 7 track\n",
    "basedir = '/work/bb1018/b380873/tropic_vis/'\n",
    "scfi = basedir + 'obs/stratoclim2017.geophysika.0808_1.master.ci_eval.nc'\n",
    "sc_data = xr.open_dataset(scfi)\n",
    "lat_sc = sc_data['BEST:LAT'].values\n",
    "lon_sc = sc_data['BEST:LON'].values\n",
    "t_sc = sc_data['time'].values\n",
    "i_sc = np.argwhere((~np.isnan(lat_sc)) & (~np.isnan(lon_sc)) & (lat_sc > 0) & (lon_sc > 0))"
   ]
  },
  {
   "cell_type": "code",
   "execution_count": 6,
   "metadata": {},
   "outputs": [],
   "source": [
    "def truncate_colormap(cmap, minval=0.0, maxval=1.0, n=256):\n",
    "    \"\"\"Truncate a coloramp by specifying the start and endpoint.\"\"\"\n",
    "    new_cmap = colors.LinearSegmentedColormap.from_list(\n",
    "        'trunc({n}.{a:.2f},{b:.2f})'.format(n=cmap.name,a=minval,b=maxval),\n",
    "        cmap(np.linspace(minval, maxval, n)))\n",
    "    return(new_cmap)"
   ]
  },
  {
   "cell_type": "code",
   "execution_count": 7,
   "metadata": {},
   "outputs": [],
   "source": [
    "# Read in a full 51-hour long trajectory file. Initialize empty arrays for altitude, latitude, longitude.\n",
    "basedir = '/scratch/b/b380873/traj_full51h_fast/'\n",
    "pi = 3.141592653589793238\n",
    "os.environ[\"CARTOPY_USER_BACKGROUNDS\"] = \"/pf/b/b380873/conda-envs/ncplot/lib/python3.7/site-packages/cartopy/data/raster/natural_earth\"\n",
    "\n",
    "# Below the file is just a sample one.\n",
    "fi_name = basedir + 'traj_tst00000450_p011.nc'\n",
    "timesteps = 7651\n",
    "numtraj = xr.open_dataset(fi_name).dims['id']\n",
    "\n",
    "traj_alt = np.zeros((timesteps,numtraj))\n",
    "traj_lat = np.zeros((timesteps,numtraj))\n",
    "traj_lon = np.zeros((timesteps,numtraj))"
   ]
  },
  {
   "cell_type": "code",
   "execution_count": 8,
   "metadata": {},
   "outputs": [],
   "source": [
    "# Read in the altitude, longitude, latitude values\n",
    "fi = xr.open_dataset(fi_name)\n",
    "alt = fi.alt.values\n",
    "lon = fi.lon.values\n",
    "lat = fi.lat.values\n",
    "t = fi.t.values\n",
    "rtime = fi.rtime.values\n",
    "\n",
    "# Find indices where the matrix != 0.\n",
    "xs, ys = np.where(alt != 0)\n",
    "# Extract the square with extreme limits.\n",
    "# In limited testing, this seems always to generate [=] (88,5308)\n",
    "alt = alt[:max(xs)+1,:max(ys)+1]\n",
    "lon = lon[:max(xs)+1,:max(ys)+1]\n",
    "lat = lat[:max(xs)+1,:max(ys)+1]\n",
    "rtime = rtime[:max(xs)+1]"
   ]
  },
  {
   "cell_type": "code",
   "execution_count": 9,
   "metadata": {},
   "outputs": [],
   "source": [
    "# Store the trimmed matrices.\n",
    "temp1 = alt/1000.\n",
    "temp2 = rad2deg(lat)\n",
    "temp3 = rad2deg(lon)\n",
    "\n",
    "# Mask the negative altitudes and fill values (-999.) for latitudes and longitudes.\n",
    "traj_alt = np.where((temp1 > 0), temp1, np.nan)\n",
    "traj_lat = np.where((temp2 >= -90.), temp2, np.nan)\n",
    "traj_lon = np.where((temp3 >= -180.), temp3, np.nan)"
   ]
  },
  {
   "cell_type": "code",
   "execution_count": null,
   "metadata": {},
   "outputs": [],
   "source": [
    "fs = 18\n",
    "fig = plt.figure(figsize=(16,5))\n",
    "gs = fig.add_gridspec(1,3)\n",
    "ax0 = fig.add_subplot(gs[0,0], projection=ccrs.PlateCarree())\n",
    "\n",
    "cmap = truncate_colormap(plt.get_cmap('terrain'), 0.2, 1.)\n",
    "ax0.tricontourf(x, y, dset['topography_c'], cmap=cmap, levels=np.arange(-100,8500,10))\n",
    "print(dset['topography_c'].max())\n",
    "ax0.coastlines()\n",
    "ax0.set_extent([55, 115, -5, 40],crs=ccrs.PlateCarree())\n",
    "ax0.text(0.07,0.92,'(a)',weight='bold',fontsize=fs+4,transform=ax0.transAxes)\n",
    "\n",
    "gl = ax0.gridlines(crs=ccrs.PlateCarree(), draw_labels=True,\n",
    "                  linewidth=2, color='gray', alpha=0.5, linestyle='--')\n",
    "gl.xlabels_top = False\n",
    "gl.ylabels_right = False\n",
    "gl.xformatter = LONGITUDE_FORMATTER\n",
    "gl.yformatter = LATITUDE_FORMATTER\n",
    "gl.xlabel_style = {'size': fs, 'rotation': 30}\n",
    "gl.ylabel_style = {'size': fs}\n",
    "\n",
    "# Pulling from https://matplotlib.org/3.1.1/gallery/lines_bars_and_markers/multicolored_line.html\n",
    "# Create a set of line segments so that we can color them individually\n",
    "points = np.array([lon_sc[i_sc[:,0]],lat_sc[i_sc[:,0]]]).T.reshape(-1,1,2)\n",
    "segments = np.concatenate([points[:-1],points[1:]],axis=1)\n",
    "\n",
    "# Convert the times from np.datetime64 to float\n",
    "t_sc1 = t_sc[i_sc[:,0]]\n",
    "t_sc_f = t_sc1.astype(\"float\")/1000000000.0\n",
    "t_sc_f = t_sc_f - np.nanmin(t_sc_f)\n",
    "norm = plt.Normalize(t_sc_f.min(),t_sc_f.max())\n",
    "lc = LineCollection(segments,cmap=cm.autumn,norm=norm)\n",
    "lc.set_array(t_sc_f)\n",
    "lc.set_linewidth(2)\n",
    "ax0.add_collection(lc)\n",
    "\n",
    "ax1 = fig.add_subplot(gs[0,1:])\n",
    "gl = ax1.gridlines(crs=ccrs.PlateCarree(),draw_labels=True,linewidth=1,color='gray')\n",
    "gl.xlabels_top = False\n",
    "gl.ylabels_right = False\n",
    "gl.xformatter = LONGITUDE_FORMATTER\n",
    "gl.yformatter = LATITUDE_FORMATTER\n",
    "gl.xlabel_style = {'size':fs}\n",
    "gl.ylabel_style = {'size':fs}\n",
    "\n",
    "ax1.set_xlabel(r'Latitude [$^{\\circ}$N]',fontsize=fs)\n",
    "ax1.set_ylabel(r'Longitude [$^{\\circ}$E]',fontsize=fs)\n",
    "\n",
    "ax1.set_extent([60,118,10,38],crs=ccrs.PlateCarree()) # large domain\n",
    "ax1.coastlines()\n",
    "ax1.background_img(name='BM',resolution='high')\n",
    "norm = plt.Normalize(5,22)\n",
    "\n",
    "# How many trajectories to plot?\n",
    "n = 700\n",
    "for i in np.arange(n):\n",
    "    # Create a set of line segments to color individually. Points in N x 1 x 2 array.\n",
    "    points = np.array([traj_lon[j-1,:,i],traj_lat[j-1,:,i]]).T.reshape(-1,1,2)\n",
    "    segments = np.concatenate([points[:-1], points[1:]], axis=1)\n",
    "\n",
    "    lc = LineCollection(segments,cmap='rainbow',norm=norm)\n",
    "    lc.set_array(traj_alt[j-1,:,i])\n",
    "    lc.set_linewidth(0.5)\n",
    "    line = ax1.add_collection(lc)\n",
    "\n",
    "sm = plt.cm.ScalarMappable(cmap='rainbow',norm=norm)\n",
    "sm.set_array([])\n",
    "ax = plt.gca()\n",
    "cbar_ax = fig.add_axes([0, 0, 0.1, 0.1])\n",
    "\n",
    "fig.canvas.mpl_connect('resize_event', resize_colorbar)\n",
    "c = plt.colorbar(sm,cax=cbar_ax)\n",
    "c.set_label('Traj. altitude [km]',fontsize=fs)\n",
    "c.ax.tick_params(labelsize=fs)\n",
    "resize_colorbar(None)\n",
    "\n",
    "fig.savefig('../output/1-topography-traj.png',bbox_inches='tight')\n",
    "plt.show()"
   ]
  },
  {
   "cell_type": "code",
   "execution_count": null,
   "metadata": {},
   "outputs": [],
   "source": []
  }
 ],
 "metadata": {
  "kernelspec": {
   "display_name": "ncplot",
   "language": "python",
   "name": "ncplot"
  },
  "language_info": {
   "codemirror_mode": {
    "name": "ipython",
    "version": 3
   },
   "file_extension": ".py",
   "mimetype": "text/x-python",
   "name": "python",
   "nbconvert_exporter": "python",
   "pygments_lexer": "ipython3",
   "version": "3.6.10"
  }
 },
 "nbformat": 4,
 "nbformat_minor": 4
}
